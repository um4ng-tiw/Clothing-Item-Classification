{
 "cells": [
  {
   "cell_type": "markdown",
   "metadata": {},
   "source": [
    "<h1><center>Classifying Clothing Items from Fashion MNIST Dataset</center></h1>\n",
    "    \n",
    "<p>This notebook employs the use of neural network to classify different types of clothing items present in the Fashion MNIST Dataset. <em>Tensorflow</em> and <em>Keras</em> has been used to create the neural network for classifying the clothing images to their appropriate classes.</p>"
   ]
  },
  {
   "cell_type": "code",
   "execution_count": 1,
   "metadata": {
    "execution": {
     "iopub.execute_input": "2021-06-23T16:44:23.403873Z",
     "iopub.status.busy": "2021-06-23T16:44:23.403582Z",
     "iopub.status.idle": "2021-06-23T16:44:23.561647Z",
     "shell.execute_reply": "2021-06-23T16:44:23.561149Z",
     "shell.execute_reply.started": "2021-06-23T16:44:23.403845Z"
    }
   },
   "outputs": [],
   "source": [
    "import numpy as np\n",
    "from tensorflow import keras\n",
    "from tensorflow.keras.models import Sequential\n",
    "from tensorflow.keras.layers import Flatten, Dense, Dropout, BatchNormalization\n",
    "import matplotlib.pyplot as plt\n",
    "%matplotlib inline"
   ]
  },
  {
   "cell_type": "code",
   "execution_count": 2,
   "metadata": {
    "execution": {
     "iopub.execute_input": "2021-06-23T16:44:24.043762Z",
     "iopub.status.busy": "2021-06-23T16:44:24.043539Z",
     "iopub.status.idle": "2021-06-23T16:44:24.748066Z",
     "shell.execute_reply": "2021-06-23T16:44:24.747512Z",
     "shell.execute_reply.started": "2021-06-23T16:44:24.043740Z"
    }
   },
   "outputs": [
    {
     "name": "stdout",
     "output_type": "stream",
     "text": [
      "1 Physical GPUs, 1 Logical GPUs\n"
     ]
    }
   ],
   "source": [
    "import tensorflow as tf\n",
    "gpus = tf.config.experimental.list_physical_devices('GPU')\n",
    "\n",
    "if gpus:\n",
    "    try:\n",
    "        # Currently, memory growth needs to be the same across GPUs\n",
    "        for gpu in gpus:\n",
    "            tf.config.experimental.set_memory_growth(gpu, True)\n",
    "        logical_gpus = tf.config.experimental.list_logical_devices('GPU')\n",
    "        print(len(gpus), \"Physical GPUs,\", len(logical_gpus), \"Logical GPUs\")\n",
    "    except RuntimeError as e:\n",
    "        # Memory growth must be set before GPUs have been initialized\n",
    "        print(e)\n"
   ]
  },
  {
   "cell_type": "markdown",
   "metadata": {},
   "source": [
    "<h3>Fashion MNIST Dataset</h3>\n",
    "\n",
    "<p>Fashion-MNIST is a dataset of Zalando's article images - consisting of a training set of 60,000 examples and a test set of 10,000 examples. Each example is a 28x28 grayscale imaeg, associated with a label from 10 classes.</p>\n",
    "\n",
    "<ul>\n",
    "    <li>Class 0: T-shirt/top</li>\n",
    "    <li>Class 1: Trouser</li>\n",
    "    <li>Class 2: Pullover</li>\n",
    "    <li>Class 3: Dress</li>\n",
    "    <li>Class 4: Coat</li>\n",
    "    <li>Class 5: Sandal</li>\n",
    "    <li>Class 6: Shirt</li>\n",
    "    <li>Class 7: Sneaker</li>\n",
    "    <li>Class 8: Bag</li>\n",
    "    <li>Class 9: Ankle Boot</li>\n",
    "    </ul>"
   ]
  },
  {
   "cell_type": "code",
   "execution_count": 3,
   "metadata": {
    "execution": {
     "iopub.execute_input": "2021-06-23T16:44:27.084257Z",
     "iopub.status.busy": "2021-06-23T16:44:27.083979Z",
     "iopub.status.idle": "2021-06-23T16:44:27.606873Z",
     "shell.execute_reply": "2021-06-23T16:44:27.606197Z",
     "shell.execute_reply.started": "2021-06-23T16:44:27.084229Z"
    }
   },
   "outputs": [
    {
     "name": "stdout",
     "output_type": "stream",
     "text": [
      "(60000, 28, 28)\n",
      "(10000, 28, 28)\n"
     ]
    },
    {
     "data": {
      "image/png": "[encoded data removed]",
      "text/plain": [
       "<Figure size 432x288 with 1 Axes>"
      ]
     },
     "metadata": {
      "needs_background": "light"
     },
     "output_type": "display_data"
    }
   ],
   "source": [
    "from tensorflow.keras.datasets import fashion_mnist\n",
    "(x_train, x_lab), (y_test,y_lab) = fashion_mnist.load_data()\n",
    "print(x_train.shape)\n",
    "print(y_test.shape)\n",
    "plt.imshow(x_train[5])\n",
    "plt.title('Class: {}'.format(x_lab[5]))\n",
    "plt.show()"
   ]
  },
  {
   "cell_type": "code",
   "execution_count": 56,
   "metadata": {
    "execution": {
     "iopub.execute_input": "2021-06-23T17:26:18.355128Z",
     "iopub.status.busy": "2021-06-23T17:26:18.354894Z",
     "iopub.status.idle": "2021-06-23T17:26:18.884227Z",
     "shell.execute_reply": "2021-06-23T17:26:18.883450Z",
     "shell.execute_reply.started": "2021-06-23T17:26:18.355104Z"
    }
   },
   "outputs": [
    {
     "data": {
      "image/png": "[encoded data removed]",
      "text/plain": [
       "<Figure size 432x288 with 1 Axes>"
      ]
     },
     "metadata": {
      "needs_background": "light"
     },
     "output_type": "display_data"
    }
   ],
   "source": [
    "x_train = keras.utils.normalize(x_train, axis=1)\n",
    "y_test = keras.utils.normalize(y_test, axis=1)\n",
    "plt.imshow(x_train[5])\n",
    "plt.title('Class: {}'.format(x_lab[5]))\n",
    "plt.show()"
   ]
  },
  {
   "cell_type": "code",
   "execution_count": 57,
   "metadata": {
    "execution": {
     "iopub.execute_input": "2021-06-23T17:26:21.205690Z",
     "iopub.status.busy": "2021-06-23T17:26:21.205455Z",
     "iopub.status.idle": "2021-06-23T17:26:21.252909Z",
     "shell.execute_reply": "2021-06-23T17:26:21.252336Z",
     "shell.execute_reply.started": "2021-06-23T17:26:21.205668Z"
    }
   },
   "outputs": [
    {
     "name": "stdout",
     "output_type": "stream",
     "text": [
      "Model: \"sequential_12\"\n",
      "_________________________________________________________________\n",
      "Layer (type)                 Output Shape              Param #   \n",
      "=================================================================\n",
      "flatten_12 (Flatten)         (None, 784)               0         \n",
      "_________________________________________________________________\n",
      "dropout_13 (Dropout)         (None, 784)               0         \n",
      "_________________________________________________________________\n",
      "dense_34 (Dense)             (None, 128)               100480    \n",
      "_________________________________________________________________\n",
      "dense_35 (Dense)             (None, 64)                8256      \n",
      "_________________________________________________________________\n",
      "dropout_14 (Dropout)         (None, 64)                0         \n",
      "_________________________________________________________________\n",
      "dense_36 (Dense)             (None, 10)                650       \n",
      "=================================================================\n",
      "Total params: 109,386\n",
      "Trainable params: 109,386\n",
      "Non-trainable params: 0\n",
      "_________________________________________________________________\n"
     ]
    }
   ],
   "source": [
    "from tensorflow.keras import regularizers\n",
    "model = Sequential()\n",
    "model.add(Flatten(input_shape = ((28,28))))\n",
    "model.add(Dropout(0.05))\n",
    "model.add(Dense(128, activation = \"relu\"))\n",
    "model.add(Dense(64, activation = \"relu\"))\n",
    "model.add(Dropout(0.05))\n",
    "model.add(Dense(10,activation=\"softmax\"))\n",
    "model.summary()"
   ]
  },
  {
   "cell_type": "code",
   "execution_count": 58,
   "metadata": {
    "execution": {
     "iopub.execute_input": "2021-06-23T17:26:23.375853Z",
     "iopub.status.busy": "2021-06-23T17:26:23.375618Z",
     "iopub.status.idle": "2021-06-23T17:28:36.214190Z",
     "shell.execute_reply": "2021-06-23T17:28:36.213349Z",
     "shell.execute_reply.started": "2021-06-23T17:26:23.375829Z"
    }
   },
   "outputs": [
    {
     "name": "stdout",
     "output_type": "stream",
     "text": [
      "Epoch 1/35\n",
      "1257/1257 [==============================] - 3s 3ms/step - loss: 0.5681 - accuracy: 0.7929 - val_loss: 0.4112 - val_accuracy: 0.8498\n",
      "Epoch 2/35\n",
      "1257/1257 [==============================] - 3s 3ms/step - loss: 0.3996 - accuracy: 0.8505 - val_loss: 0.3835 - val_accuracy: 0.8549\n",
      "Epoch 3/35\n",
      "1257/1257 [==============================] - 4s 3ms/step - loss: 0.3622 - accuracy: 0.8654 - val_loss: 0.3522 - val_accuracy: 0.8703\n",
      "Epoch 4/35\n",
      "1257/1257 [==============================] - 4s 3ms/step - loss: 0.3334 - accuracy: 0.8759 - val_loss: 0.3426 - val_accuracy: 0.8754\n",
      "Epoch 5/35\n",
      "1257/1257 [==============================] - 3s 3ms/step - loss: 0.3162 - accuracy: 0.8815 - val_loss: 0.3427 - val_accuracy: 0.8733\n",
      "Epoch 6/35\n",
      "1257/1257 [==============================] - 3s 3ms/step - loss: 0.3000 - accuracy: 0.8866 - val_loss: 0.3183 - val_accuracy: 0.8858\n",
      "Epoch 7/35\n",
      "1257/1257 [==============================] - 4s 3ms/step - loss: 0.2862 - accuracy: 0.8916 - val_loss: 0.3183 - val_accuracy: 0.8827\n",
      "Epoch 8/35\n",
      "1257/1257 [==============================] - 3s 3ms/step - loss: 0.2741 - accuracy: 0.8963 - val_loss: 0.3273 - val_accuracy: 0.8812\n",
      "Epoch 9/35\n",
      "1257/1257 [==============================] - 3s 3ms/step - loss: 0.2653 - accuracy: 0.8984 - val_loss: 0.3178 - val_accuracy: 0.8835\n",
      "Epoch 10/35\n",
      "1257/1257 [==============================] - 4s 3ms/step - loss: 0.2575 - accuracy: 0.9015 - val_loss: 0.3165 - val_accuracy: 0.8845\n",
      "Epoch 11/35\n",
      "1257/1257 [==============================] - 4s 3ms/step - loss: 0.2445 - accuracy: 0.9071 - val_loss: 0.3342 - val_accuracy: 0.8811\n",
      "Epoch 12/35\n",
      "1257/1257 [==============================] - 4s 3ms/step - loss: 0.2400 - accuracy: 0.9083 - val_loss: 0.3176 - val_accuracy: 0.8884\n",
      "Epoch 13/35\n",
      "1257/1257 [==============================] - 4s 3ms/step - loss: 0.2322 - accuracy: 0.9110 - val_loss: 0.3202 - val_accuracy: 0.8870\n",
      "Epoch 14/35\n",
      "1257/1257 [==============================] - 4s 3ms/step - loss: 0.2237 - accuracy: 0.9151 - val_loss: 0.3495 - val_accuracy: 0.8802\n",
      "Epoch 15/35\n",
      "1257/1257 [==============================] - 4s 3ms/step - loss: 0.2175 - accuracy: 0.9174 - val_loss: 0.3205 - val_accuracy: 0.8879\n",
      "Epoch 16/35\n",
      "1257/1257 [==============================] - 4s 3ms/step - loss: 0.2114 - accuracy: 0.9169 - val_loss: 0.3222 - val_accuracy: 0.8923\n",
      "Epoch 17/35\n",
      "1257/1257 [==============================] - 4s 3ms/step - loss: 0.2072 - accuracy: 0.9198 - val_loss: 0.3251 - val_accuracy: 0.8919\n",
      "Epoch 18/35\n",
      "1257/1257 [==============================] - 4s 3ms/step - loss: 0.2009 - accuracy: 0.9237 - val_loss: 0.3337 - val_accuracy: 0.8910\n",
      "Epoch 19/35\n",
      "1257/1257 [==============================] - 4s 3ms/step - loss: 0.2005 - accuracy: 0.9233 - val_loss: 0.3149 - val_accuracy: 0.8934\n",
      "Epoch 20/35\n",
      "1257/1257 [==============================] - 4s 3ms/step - loss: 0.1919 - accuracy: 0.9266 - val_loss: 0.3237 - val_accuracy: 0.8902\n",
      "Epoch 21/35\n",
      "1257/1257 [==============================] - 4s 3ms/step - loss: 0.1848 - accuracy: 0.9290 - val_loss: 0.3300 - val_accuracy: 0.8936\n",
      "Epoch 22/35\n",
      "1257/1257 [==============================] - 4s 3ms/step - loss: 0.1822 - accuracy: 0.9285 - val_loss: 0.3369 - val_accuracy: 0.8935\n",
      "Epoch 23/35\n",
      "1257/1257 [==============================] - 4s 3ms/step - loss: 0.1784 - accuracy: 0.9310 - val_loss: 0.3401 - val_accuracy: 0.8929\n",
      "Epoch 24/35\n",
      "1257/1257 [==============================] - 4s 3ms/step - loss: 0.1767 - accuracy: 0.9312 - val_loss: 0.3385 - val_accuracy: 0.8915\n",
      "Epoch 25/35\n",
      "1257/1257 [==============================] - 4s 3ms/step - loss: 0.1739 - accuracy: 0.9344 - val_loss: 0.3405 - val_accuracy: 0.8936\n",
      "Epoch 26/35\n",
      "1257/1257 [==============================] - 4s 3ms/step - loss: 0.1698 - accuracy: 0.9350 - val_loss: 0.3439 - val_accuracy: 0.8892\n",
      "Epoch 27/35\n",
      "1257/1257 [==============================] - 4s 3ms/step - loss: 0.1641 - accuracy: 0.9359 - val_loss: 0.3567 - val_accuracy: 0.8897\n",
      "Epoch 28/35\n",
      "1257/1257 [==============================] - 4s 3ms/step - loss: 0.1634 - accuracy: 0.9365 - val_loss: 0.3660 - val_accuracy: 0.8887\n",
      "Epoch 29/35\n",
      "1257/1257 [==============================] - 4s 3ms/step - loss: 0.1574 - accuracy: 0.9396 - val_loss: 0.3470 - val_accuracy: 0.8938\n",
      "Epoch 30/35\n",
      "1257/1257 [==============================] - 4s 3ms/step - loss: 0.1551 - accuracy: 0.9395 - val_loss: 0.3756 - val_accuracy: 0.8888\n",
      "Epoch 31/35\n",
      "1257/1257 [==============================] - 4s 3ms/step - loss: 0.1521 - accuracy: 0.9416 - val_loss: 0.3705 - val_accuracy: 0.8921\n",
      "Epoch 32/35\n",
      "1257/1257 [==============================] - 4s 3ms/step - loss: 0.1482 - accuracy: 0.9428 - val_loss: 0.3801 - val_accuracy: 0.8881\n",
      "Epoch 33/35\n",
      "1257/1257 [==============================] - 4s 3ms/step - loss: 0.1481 - accuracy: 0.9422 - val_loss: 0.3790 - val_accuracy: 0.8909\n",
      "Epoch 34/35\n",
      "1257/1257 [==============================] - 4s 3ms/step - loss: 0.1455 - accuracy: 0.9438 - val_loss: 0.3803 - val_accuracy: 0.8901\n",
      "Epoch 35/35\n",
      "1257/1257 [==============================] - 4s 3ms/step - loss: 0.1446 - accuracy: 0.9442 - val_loss: 0.3621 - val_accuracy: 0.8941\n"
     ]
    }
   ],
   "source": [
    "model.compile(optimizer=\"adam\", loss=\"sparse_categorical_crossentropy\", metrics=[\"accuracy\"])\n",
    "history = model.fit(x_train, x_lab, validation_split = 0.33, epochs = 35)"
   ]
  },
  {
   "cell_type": "code",
   "execution_count": 59,
   "metadata": {
    "execution": {
     "iopub.execute_input": "2021-06-23T17:28:36.241473Z",
     "iopub.status.busy": "2021-06-23T17:28:36.241283Z",
     "iopub.status.idle": "2021-06-23T17:28:36.882570Z",
     "shell.execute_reply": "2021-06-23T17:28:36.881907Z",
     "shell.execute_reply.started": "2021-06-23T17:28:36.241451Z"
    }
   },
   "outputs": [
    {
     "name": "stdout",
     "output_type": "stream",
     "text": [
      "313/313 [==============================] - 1s 2ms/step - loss: 0.4131 - accuracy: 0.8814\n"
     ]
    },
    {
     "data": {
      "text/plain": [
       "[0.41314300894737244, 0.8813999891281128]"
      ]
     },
     "execution_count": 59,
     "metadata": {},
     "output_type": "execute_result"
    }
   ],
   "source": [
    "model.evaluate(y_test,y_lab)"
   ]
  },
  {
   "cell_type": "code",
   "execution_count": 60,
   "metadata": {
    "execution": {
     "iopub.execute_input": "2021-06-23T17:28:36.884235Z",
     "iopub.status.busy": "2021-06-23T17:28:36.884010Z",
     "iopub.status.idle": "2021-06-23T17:28:37.058624Z",
     "shell.execute_reply": "2021-06-23T17:28:37.057950Z",
     "shell.execute_reply.started": "2021-06-23T17:28:36.884210Z"
    }
   },
   "outputs": [
    {
     "data": {
      "image/png": "[encoded data removed]",
      "text/plain": [
       "<Figure size 432x288 with 1 Axes>"
      ]
     },
     "metadata": {
      "needs_background": "light"
     },
     "output_type": "display_data"
    }
   ],
   "source": [
    "plt.plot(history.history['accuracy'])\n",
    "plt.plot(history.history['val_accuracy'])\n",
    "plt.title('model accuracy')\n",
    "plt.ylabel('accuracy')\n",
    "plt.xlabel('epoch')\n",
    "plt.legend(['train', 'test'], loc='upper left')\n",
    "plt.show()"
   ]
  },
  {
   "cell_type": "code",
   "execution_count": 61,
   "metadata": {
    "execution": {
     "iopub.execute_input": "2021-06-23T17:28:37.059950Z",
     "iopub.status.busy": "2021-06-23T17:28:37.059675Z",
     "iopub.status.idle": "2021-06-23T17:28:37.216029Z",
     "shell.execute_reply": "2021-06-23T17:28:37.215323Z",
     "shell.execute_reply.started": "2021-06-23T17:28:37.059921Z"
    }
   },
   "outputs": [
    {
     "data": {
      "image/png": "[encoded data removed]",
      "text/plain": [
       "<Figure size 432x288 with 1 Axes>"
      ]
     },
     "metadata": {
      "needs_background": "light"
     },
     "output_type": "display_data"
    }
   ],
   "source": [
    "plt.plot(history.history['loss'])\n",
    "plt.plot(history.history['val_loss'])\n",
    "plt.title('model loss')\n",
    "plt.ylabel('loss')\n",
    "plt.xlabel('epoch')\n",
    "plt.legend(['train', 'test'], loc='upper left')\n",
    "plt.show()"
   ]
  },
  {
   "cell_type": "code",
   "execution_count": 62,
   "metadata": {
    "execution": {
     "iopub.execute_input": "2021-06-23T17:28:37.217292Z",
     "iopub.status.busy": "2021-06-23T17:28:37.217071Z",
     "iopub.status.idle": "2021-06-23T17:28:37.297362Z",
     "shell.execute_reply": "2021-06-23T17:28:37.296376Z",
     "shell.execute_reply.started": "2021-06-23T17:28:37.217266Z"
    }
   },
   "outputs": [
    {
     "name": "stdout",
     "output_type": "stream",
     "text": [
      "[[1.80042689e-12 1.51134583e-18 6.07853236e-16 4.30483343e-10\n",
      "  9.45512418e-12 7.10967197e-06 2.17369661e-13 1.95887478e-05\n",
      "  8.21248206e-16 9.99973297e-01]\n",
      " [5.90337186e-06 3.11017210e-16 9.99924421e-01 6.39488029e-12\n",
      "  5.55664519e-05 1.77377331e-08 1.40235634e-05 4.95163077e-11\n",
      "  2.72809423e-12 8.57619253e-10]\n",
      " [4.35141045e-13 1.00000000e+00 1.83435467e-16 1.21651148e-12\n",
      "  1.77383661e-19 1.06962617e-17 7.89132350e-14 2.95927160e-20\n",
      "  8.83768087e-21 1.46657674e-22]\n",
      " [1.44581866e-14 1.00000000e+00 3.39281363e-17 9.55583616e-12\n",
      "  1.63216616e-19 5.27154652e-21 7.72639195e-14 2.35294035e-25\n",
      "  3.81720982e-22 4.06351466e-26]\n",
      " [4.13740396e-01 3.86084983e-11 1.75792761e-02 1.39826598e-05\n",
      "  3.82307335e-04 1.42292367e-09 5.68283916e-01 4.99955216e-11\n",
      "  1.21281218e-07 3.27356232e-11]\n",
      " [2.29635866e-09 1.00000000e+00 2.01854115e-12 2.26247715e-10\n",
      "  1.72640951e-14 5.72838557e-15 1.06134865e-10 9.87260522e-16\n",
      "  4.41339767e-17 7.96760963e-18]\n",
      " [1.97843456e-12 1.93923766e-10 2.15911828e-02 1.69786039e-12\n",
      "  9.78401244e-01 2.85158520e-21 7.56255622e-06 1.97940007e-20\n",
      "  1.80108316e-19 3.08680928e-19]\n",
      " [1.88222558e-07 1.13374059e-13 2.25380471e-04 6.77873572e-07\n",
      "  2.00146751e-04 3.81430061e-11 9.99573529e-01 1.61488860e-11\n",
      "  1.46276653e-08 1.16628571e-12]\n",
      " [1.23912890e-23 0.00000000e+00 6.03999450e-33 0.00000000e+00\n",
      "  4.38556959e-33 1.00000000e+00 3.72737151e-32 4.72289194e-23\n",
      "  2.53491360e-32 3.05438547e-35]\n",
      " [2.23863710e-14 3.87353094e-19 9.48888494e-18 4.07620799e-15\n",
      "  8.84460148e-13 3.20440176e-06 2.44983787e-18 9.99996781e-01\n",
      "  2.50021976e-15 1.76339352e-08]]\n"
     ]
    }
   ],
   "source": [
    "p = model.predict(y_test[:10])\n",
    "print(p)"
   ]
  },
  {
   "cell_type": "code",
   "execution_count": 63,
   "metadata": {
    "execution": {
     "iopub.execute_input": "2021-06-23T17:28:37.298758Z",
     "iopub.status.busy": "2021-06-23T17:28:37.298537Z",
     "iopub.status.idle": "2021-06-23T17:28:37.305366Z",
     "shell.execute_reply": "2021-06-23T17:28:37.304469Z",
     "shell.execute_reply.started": "2021-06-23T17:28:37.298738Z"
    }
   },
   "outputs": [
    {
     "name": "stdout",
     "output_type": "stream",
     "text": [
      "[9 2 1 1 6 1 4 6 5 7]\n",
      "[9 2 1 1 6 1 4 6 5 7]\n"
     ]
    }
   ],
   "source": [
    "pred = np.argmax(p, axis = 1)\n",
    "print(pred)\n",
    "print(y_lab[:10])"
   ]
  },
  {
   "cell_type": "code",
   "execution_count": 64,
   "metadata": {
    "execution": {
     "iopub.execute_input": "2021-06-23T17:28:37.307077Z",
     "iopub.status.busy": "2021-06-23T17:28:37.306930Z",
     "iopub.status.idle": "2021-06-23T17:28:37.746608Z",
     "shell.execute_reply": "2021-06-23T17:28:37.745914Z",
     "shell.execute_reply.started": "2021-06-23T17:28:37.307060Z"
    }
   },
   "outputs": [
    {
     "data": {
      "image/png": "[encoded data removed]",
      "text/plain": [
       "<Figure size 720x720 with 10 Axes>"
      ]
     },
     "metadata": {
      "needs_background": "light"
     },
     "output_type": "display_data"
    }
   ],
   "source": [
    "plt.figure(figsize = (10,10))\n",
    "for i in range(10):\n",
    "    plt.subplot(5,5,i+1)\n",
    "    plt.imshow(y_test[i])\n",
    "    plt.title('Original: {}, Predicted: {}'.format(y_lab[i], pred[i]))\n",
    "    plt.axis('Off')\n",
    "\n",
    "plt.subplots_adjust(left=1.5, right=2.5, top=1.2)\n",
    "plt.show()"
   ]
  },
  {
   "cell_type": "code",
   "execution_count": null,
   "metadata": {},
   "outputs": [],
   "source": []
  }
 ],
 "metadata": {
  "kernelspec": {
   "display_name": "Python 3",
   "language": "python",
   "name": "python3"
  },
  "language_info": {
   "codemirror_mode": {
    "name": "ipython",
    "version": 3
   },
   "file_extension": ".py",
   "mimetype": "text/x-python",
   "name": "python",
   "nbconvert_exporter": "python",
   "pygments_lexer": "ipython3",
   "version": "3.7.3"
  }
 },
 "nbformat": 4,
 "nbformat_minor": 4
}
